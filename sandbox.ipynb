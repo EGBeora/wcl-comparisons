{
 "cells": [
  {
   "cell_type": "code",
   "execution_count": 2,
   "metadata": {},
   "outputs": [
    {
     "name": "stdout",
     "output_type": "stream",
     "text": [
      "Boo_2 DPS: 7707.713333333334\n",
      "Boo_2 Normalized DPS: 7434.449985611933\n",
      "Shroudedpath DPS: 8461.386666666667\n"

     ]
    },
    {
     "data": {
      "text/html": [
       "<style type=\"text/css\">\n",
       "#T_8e5d0_row0_col3, #T_8e5d0_row0_col5, #T_8e5d0_row0_col8, #T_8e5d0_row1_col5, #T_8e5d0_row1_col8, #T_8e5d0_row1_col9 {\n",
       "  color: limegreen;\n",
       "}\n",
       "#T_8e5d0_row0_col9, #T_8e5d0_row1_col3, #T_8e5d0_row2_col3, #T_8e5d0_row2_col8, #T_8e5d0_row3_col3, #T_8e5d0_row3_col5, #T_8e5d0_row3_col8, #T_8e5d0_row3_col9, #T_8e5d0_row4_col3, #T_8e5d0_row4_col8, #T_8e5d0_row5_col3, #T_8e5d0_row5_col5, #T_8e5d0_row5_col8, #T_8e5d0_row5_col9, #T_8e5d0_row6_col3, #T_8e5d0_row6_col5, #T_8e5d0_row6_col8, #T_8e5d0_row6_col9, #T_8e5d0_row7_col8 {\n",
       "  color: grey;\n",
       "}\n",
       "#T_8e5d0_row2_col5, #T_8e5d0_row2_col9, #T_8e5d0_row4_col5, #T_8e5d0_row4_col9, #T_8e5d0_row7_col3, #T_8e5d0_row7_col5, #T_8e5d0_row7_col9 {\n",
       "  color: orangered;\n",
       "}\n",
       "</style>\n",
       "<table id=\"T_8e5d0\">\n",
       "  <thead>\n",
       "    <tr>\n",
       "      <th class=\"blank level0\" >&nbsp;</th>\n",
       "      <th id=\"T_8e5d0_level0_col0\" class=\"col_heading level0 col0\" >name</th>\n",
       "      <th id=\"T_8e5d0_level0_col1\" class=\"col_heading level0 col1\" >amount</th>\n",
       "      <th id=\"T_8e5d0_level0_col2\" class=\"col_heading level0 col2\" >dmg_perc</th>\n",
       "      <th id=\"T_8e5d0_level0_col3\" class=\"col_heading level0 col3\" >casts</th>\n",
       "      <th id=\"T_8e5d0_level0_col4\" class=\"col_heading level0 col4\" >avg_cast</th>\n",
       "      <th id=\"T_8e5d0_level0_col5\" class=\"col_heading level0 col5\" >hits</th>\n",
       "      <th id=\"T_8e5d0_level0_col6\" class=\"col_heading level0 col6\" >avg_hit</th>\n",
       "      <th id=\"T_8e5d0_level0_col7\" class=\"col_heading level0 col7\" >crit_perc</th>\n",
       "      <th id=\"T_8e5d0_level0_col8\" class=\"col_heading level0 col8\" >uptime_perc</th>\n",
       "      <th id=\"T_8e5d0_level0_col9\" class=\"col_heading level0 col9\" >dps</th>\n",

       "    </tr>\n",
       "  </thead>\n",
       "  <tbody>\n",
       "    <tr>\n",
       "      <th id=\"T_8e5d0_level0_row0\" class=\"row_heading level0 row0\" >0</th>\n",
       "      <td id=\"T_8e5d0_row0_col0\" class=\"data row0 col0\" >Rupture</td>\n",
       "      <td id=\"T_8e5d0_row0_col1\" class=\"data row0 col1\" >nan</td>\n",
       "      <td id=\"T_8e5d0_row0_col2\" class=\"data row0 col2\" >nan</td>\n",
       "      <td id=\"T_8e5d0_row0_col3\" class=\"data row0 col3\" >4.000000</td>\n",
       "      <td id=\"T_8e5d0_row0_col4\" class=\"data row0 col4\" >1900.000000</td>\n",
       "      <td id=\"T_8e5d0_row0_col5\" class=\"data row0 col5\" >20.000000</td>\n",
       "      <td id=\"T_8e5d0_row0_col6\" class=\"data row0 col6\" >nan</td>\n",
       "      <td id=\"T_8e5d0_row0_col7\" class=\"data row0 col7\" >0.429000</td>\n",
       "      <td id=\"T_8e5d0_row0_col8\" class=\"data row0 col8\" >0.358000</td>\n",
       "      <td id=\"T_8e5d0_row0_col9\" class=\"data row0 col9\" >nan</td>\n",
       "    </tr>\n",
       "    <tr>\n",
       "      <th id=\"T_8e5d0_level0_row1\" class=\"row_heading level0 row1\" >1</th>\n",
       "      <td id=\"T_8e5d0_row1_col0\" class=\"data row1 col0\" >Deadly Poison IX</td>\n",
       "      <td id=\"T_8e5d0_row1_col1\" class=\"data row1 col1\" >1785.270833</td>\n",
       "      <td id=\"T_8e5d0_row1_col2\" class=\"data row1 col2\" >0.010927</td>\n",
       "      <td id=\"T_8e5d0_row1_col3\" class=\"data row1 col3\" >0.000000</td>\n",
       "      <td id=\"T_8e5d0_row1_col4\" class=\"data row1 col4\" >nan</td>\n",
       "      <td id=\"T_8e5d0_row1_col5\" class=\"data row1 col5\" >1.000000</td>\n",
       "      <td id=\"T_8e5d0_row1_col6\" class=\"data row1 col6\" >0.000000</td>\n",
       "      <td id=\"T_8e5d0_row1_col7\" class=\"data row1 col7\" >nan</td>\n",
       "      <td id=\"T_8e5d0_row1_col8\" class=\"data row1 col8\" >0.003800</td>\n",
       "      <td id=\"T_8e5d0_row1_col9\" class=\"data row1 col9\" >11.901806</td>\n",
       "    </tr>\n",
       "    <tr>\n",
       "      <th id=\"T_8e5d0_level0_row2\" class=\"row_heading level0 row2\" >2</th>\n",
       "      <td id=\"T_8e5d0_row2_col0\" class=\"data row2 col0\" >Envenom</td>\n",
       "      <td id=\"T_8e5d0_row2_col1\" class=\"data row2 col1\" >-39396.136364</td>\n",
       "      <td id=\"T_8e5d0_row2_col2\" class=\"data row2 col2\" >-0.016462</td>\n",
       "      <td id=\"T_8e5d0_row2_col3\" class=\"data row2 col3\" >0.000000</td>\n",
       "      <td id=\"T_8e5d0_row2_col4\" class=\"data row2 col4\" >nan</td>\n",
       "      <td id=\"T_8e5d0_row2_col5\" class=\"data row2 col5\" >-5.000000</td>\n",
       "      <td id=\"T_8e5d0_row2_col6\" class=\"data row2 col6\" >0.000000</td>\n",
       "      <td id=\"T_8e5d0_row2_col7\" class=\"data row2 col7\" >0.165000</td>\n",
       "      <td id=\"T_8e5d0_row2_col8\" class=\"data row2 col8\" >nan</td>\n",
       "      <td id=\"T_8e5d0_row2_col9\" class=\"data row2 col9\" >-262.640909</td>\n",
       "    </tr>\n",
       "    <tr>\n",
       "      <th id=\"T_8e5d0_level0_row3\" class=\"row_heading level0 row3\" >3</th>\n",
       "      <td id=\"T_8e5d0_row3_col0\" class=\"data row3 col0\" >Global Thermal Sapper Charge</td>\n",
       "      <td id=\"T_8e5d0_row3_col1\" class=\"data row3 col1\" >0.000000</td>\n",
       "      <td id=\"T_8e5d0_row3_col2\" class=\"data row3 col2\" >0.000341</td>\n",
       "      <td id=\"T_8e5d0_row3_col3\" class=\"data row3 col3\" >0.000000</td>\n",
       "      <td id=\"T_8e5d0_row3_col4\" class=\"data row3 col4\" >-200.000000</td>\n",
       "      <td id=\"T_8e5d0_row3_col5\" class=\"data row3 col5\" >0.000000</td>\n",
       "      <td id=\"T_8e5d0_row3_col6\" class=\"data row3 col6\" >0.000000</td>\n",
       "      <td id=\"T_8e5d0_row3_col7\" class=\"data row3 col7\" >nan</td>\n",
       "      <td id=\"T_8e5d0_row3_col8\" class=\"data row3 col8\" >nan</td>\n",
       "      <td id=\"T_8e5d0_row3_col9\" class=\"data row3 col9\" >0.000000</td>\n",
       "    </tr>\n",
       "    <tr>\n",
       "      <th id=\"T_8e5d0_level0_row4\" class=\"row_heading level0 row4\" >4</th>\n",
       "      <td id=\"T_8e5d0_row4_col0\" class=\"data row4 col0\" >Instant Poison IX</td>\n",
       "      <td id=\"T_8e5d0_row4_col1\" class=\"data row4 col1\" >-88766.511628</td>\n",
       "      <td id=\"T_8e5d0_row4_col2\" class=\"data row4 col2\" >-0.027673</td>\n",
       "      <td id=\"T_8e5d0_row4_col3\" class=\"data row4 col3\" >0.000000</td>\n",
       "      <td id=\"T_8e5d0_row4_col4\" class=\"data row4 col4\" >nan</td>\n",
       "      <td id=\"T_8e5d0_row4_col5\" class=\"data row4 col5\" >-56.000000</td>\n",
       "      <td id=\"T_8e5d0_row4_col6\" class=\"data row4 col6\" >0.000000</td>\n",
       "      <td id=\"T_8e5d0_row4_col7\" class=\"data row4 col7\" >-0.006000</td>\n",
       "      <td id=\"T_8e5d0_row4_col8\" class=\"data row4 col8\" >nan</td>\n",
       "      <td id=\"T_8e5d0_row4_col9\" class=\"data row4 col9\" >-591.776744</td>\n",
       "    </tr>\n",
       "    <tr>\n",
       "      <th id=\"T_8e5d0_level0_row5\" class=\"row_heading level0 row5\" >5</th>\n",
       "      <td id=\"T_8e5d0_row5_col0\" class=\"data row5 col0\" >Mutilate</td>\n",
       "      <td id=\"T_8e5d0_row5_col1\" class=\"data row5 col1\" >0.000000</td>\n",
       "      <td id=\"T_8e5d0_row5_col2\" class=\"data row5 col2\" >0.089784</td>\n",
       "      <td id=\"T_8e5d0_row5_col3\" class=\"data row5 col3\" >0.000000</td>\n",
       "      <td id=\"T_8e5d0_row5_col4\" class=\"data row5 col4\" >0.000000</td>\n",
       "      <td id=\"T_8e5d0_row5_col5\" class=\"data row5 col5\" >0.000000</td>\n",
       "      <td id=\"T_8e5d0_row5_col6\" class=\"data row5 col6\" >0.000000</td>\n",
       "      <td id=\"T_8e5d0_row5_col7\" class=\"data row5 col7\" >-0.041500</td>\n",
       "      <td id=\"T_8e5d0_row5_col8\" class=\"data row5 col8\" >nan</td>\n",
       "      <td id=\"T_8e5d0_row5_col9\" class=\"data row5 col9\" >0.000000</td>\n",
       "    </tr>\n",
       "    <tr>\n",
       "      <th id=\"T_8e5d0_level0_row6\" class=\"row_heading level0 row6\" >6</th>\n",
       "      <td id=\"T_8e5d0_row6_col0\" class=\"data row6 col0\" >Saronite Bomb</td>\n",
       "      <td id=\"T_8e5d0_row6_col1\" class=\"data row6 col1\" >0.000000</td>\n",
       "      <td id=\"T_8e5d0_row6_col2\" class=\"data row6 col2\" >0.000390</td>\n",
       "      <td id=\"T_8e5d0_row6_col3\" class=\"data row6 col3\" >0.000000</td>\n",
       "      <td id=\"T_8e5d0_row6_col4\" class=\"data row6 col4\" >-200.000000</td>\n",
       "      <td id=\"T_8e5d0_row6_col5\" class=\"data row6 col5\" >0.000000</td>\n",
       "      <td id=\"T_8e5d0_row6_col6\" class=\"data row6 col6\" >0.000000</td>\n",
       "      <td id=\"T_8e5d0_row6_col7\" class=\"data row6 col7\" >nan</td>\n",
       "      <td id=\"T_8e5d0_row6_col8\" class=\"data row6 col8\" >nan</td>\n",
       "      <td id=\"T_8e5d0_row6_col9\" class=\"data row6 col9\" >0.000000</td>\n",
       "    </tr>\n",
       "    <tr>\n",
       "      <th id=\"T_8e5d0_level0_row7\" class=\"row_heading level0 row7\" >7</th>\n",
       "      <td id=\"T_8e5d0_row7_col0\" class=\"data row7 col0\" >Melee</td>\n",
       "      <td id=\"T_8e5d0_row7_col1\" class=\"data row7 col1\" >-27663.125000</td>\n",
       "      <td id=\"T_8e5d0_row7_col2\" class=\"data row7 col2\" >0.013042</td>\n",
       "      <td id=\"T_8e5d0_row7_col3\" class=\"data row7 col3\" >-13.000000</td>\n",
       "      <td id=\"T_8e5d0_row7_col4\" class=\"data row7 col4\" >-34.800000</td>\n",
       "      <td id=\"T_8e5d0_row7_col5\" class=\"data row7 col5\" >-28.000000</td>\n",
       "      <td id=\"T_8e5d0_row7_col6\" class=\"data row7 col6\" >0.000000</td>\n",
       "      <td id=\"T_8e5d0_row7_col7\" class=\"data row7 col7\" >0.005000</td>\n",
       "      <td id=\"T_8e5d0_row7_col8\" class=\"data row7 col8\" >nan</td>\n",
       "      <td id=\"T_8e5d0_row7_col9\" class=\"data row7 col9\" >-184.420833</td>\n",

       "    </tr>\n",
       "  </tbody>\n",
       "</table>\n"
      ],
      "text/plain": [
       "<pandas.io.formats.style.Styler at 0x2ca73e11190>"
      ]
     },
     "execution_count": 2,

     "metadata": {},
     "output_type": "execute_result"
    }
   ],
   "source": [
    "from comparison import *\n",
    "style(run_comparison(player_name='Boo_2', player_time=150, compare_to_name='Shroudedpath', compare_to_time=150, normalize=True).sort_values('casts', ascending=False).reset_index(drop=True))"
   ]
  },
  {
   "cell_type": "code",
   "execution_count": null,
   "metadata": {},
   "outputs": [],
   "source": []
  }
 ],
 "metadata": {
  "kernelspec": {
   "display_name": "venv",
   "language": "python",
   "name": "python3"
  },
  "language_info": {
   "codemirror_mode": {
    "name": "ipython",
    "version": 3
   },
   "file_extension": ".py",
   "mimetype": "text/x-python",
   "name": "python",
   "nbconvert_exporter": "python",
   "pygments_lexer": "ipython3",
   "version": "3.11.1 (tags/v3.11.1:a7a450f, Dec  6 2022, 19:58:39) [MSC v.1934 64 bit (AMD64)]"
  },
  "orig_nbformat": 4,
  "vscode": {
   "interpreter": {
    "hash": "321bea300360ddd68f90fd680a151afec567dc2d49d6a4423ac5191ce99debaf"
   }
  }
 },
 "nbformat": 4,
 "nbformat_minor": 2
}
